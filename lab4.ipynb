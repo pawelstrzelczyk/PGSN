{
 "cells": [
  {
   "cell_type": "code",
   "execution_count": 2,
   "metadata": {},
   "outputs": [],
   "source": [
    "import tensorflow as tf\n",
    "from tensorflow import keras\n",
    "from keras import layers\n",
    "from keras import metrics\n",
    "from sklearn.metrics import precision_recall_fscore_support, accuracy_score"
   ]
  },
  {
   "attachments": {},
   "cell_type": "markdown",
   "metadata": {},
   "source": [
    "# Zadanie 1"
   ]
  },
  {
   "cell_type": "code",
   "execution_count": 3,
   "metadata": {},
   "outputs": [],
   "source": [
    "(trainX, trainY), (testX, testY) = tf.keras.datasets.mnist.load_data()\n",
    "trainX = tf.cast(trainX, tf.float32) / 255.\n",
    "testX = tf.cast(testX, tf.float32) / 255."
   ]
  },
  {
   "cell_type": "code",
   "execution_count": 4,
   "metadata": {},
   "outputs": [
    {
     "name": "stdout",
     "output_type": "stream",
     "text": [
      "Model: \"sequential\"\n",
      "_________________________________________________________________\n",
      " Layer (type)                Output Shape              Param #   \n",
      "=================================================================\n",
      " flatten (Flatten)           (None, 784)               0         \n",
      "                                                                 \n",
      " dense (Dense)               (None, 128)               100480    \n",
      "                                                                 \n",
      " dense_1 (Dense)             (None, 128)               16512     \n",
      "                                                                 \n",
      " dense_2 (Dense)             (None, 10)                1290      \n",
      "                                                                 \n",
      "=================================================================\n",
      "Total params: 118,282\n",
      "Trainable params: 118,282\n",
      "Non-trainable params: 0\n",
      "_________________________________________________________________\n"
     ]
    }
   ],
   "source": [
    "sequential_model = keras.Sequential(\n",
    "    [\n",
    "        layers.Flatten(input_shape=(28, 28)),\n",
    "        layers.Dense(128, activation=\"relu\"),\n",
    "        layers.Dense(128, activation=\"relu\"),\n",
    "        layers.Dense(10, activation=\"softmax\"),\n",
    "    ]\n",
    ")\n",
    "sequential_model.summary()\n",
    "sequential_model.load_weights(\"model_w.h5\")\n",
    "sequential_model.compile(\n",
    "    optimizer=\"adam\", loss=\"sparse_categorical_crossentropy\", metrics=[metrics.SparseCategoricalAccuracy()])\n"
   ]
  },
  {
   "cell_type": "code",
   "execution_count": 10,
   "metadata": {},
   "outputs": [
    {
     "name": "stdout",
     "output_type": "stream",
     "text": [
      "313/313 [==============================] - 0s 495us/step\n",
      "Accuracy:  0.9778\n",
      "Precision:  0.9778581534433096\n",
      "Recall:  0.9775777296255154\n"
     ]
    }
   ],
   "source": [
    "preds_sequential = sequential_model.predict(testX)\n",
    "accuracy_sequential = accuracy_score(testY, preds_sequential.argmax(axis=1))\n",
    "precision_sequential, recall_sequential, _, _ = precision_recall_fscore_support(testY, preds_sequential.argmax(axis=1), average='macro')\n",
    "print(\"Accuracy: \", accuracy_sequential)\n",
    "print(\"Precision: \", precision_sequential)\n",
    "print(\"Recall: \", recall_sequential)"
   ]
  },
  {
   "cell_type": "code",
   "execution_count": 6,
   "metadata": {},
   "outputs": [
    {
     "name": "stdout",
     "output_type": "stream",
     "text": [
      "Model: \"model\"\n",
      "_________________________________________________________________\n",
      " Layer (type)                Output Shape              Param #   \n",
      "=================================================================\n",
      " input_1 (InputLayer)        [(None, 28, 28)]          0         \n",
      "                                                                 \n",
      " flatten_1 (Flatten)         (None, 784)               0         \n",
      "                                                                 \n",
      " dense_3 (Dense)             (None, 128)               100480    \n",
      "                                                                 \n",
      " dense_4 (Dense)             (None, 128)               16512     \n",
      "                                                                 \n",
      " dense_5 (Dense)             (None, 10)                1290      \n",
      "                                                                 \n",
      "=================================================================\n",
      "Total params: 118,282\n",
      "Trainable params: 118,282\n",
      "Non-trainable params: 0\n",
      "_________________________________________________________________\n"
     ]
    }
   ],
   "source": [
    "inputs = layers.Input(shape=(28, 28))\n",
    "flatten = layers.Flatten()(inputs)\n",
    "dense1 = layers.Dense(128, activation=\"relu\")(flatten)\n",
    "dense2 = layers.Dense(128, activation=\"relu\")(dense1)\n",
    "outputs = layers.Dense(10, activation=\"softmax\")(dense2)\n",
    "functional_model = keras.Model(inputs=inputs, outputs=outputs)\n",
    "functional_model.summary()\n",
    "functional_model.load_weights(\"model_w.h5\")\n",
    "functional_model.compile(\n",
    "    optimizer=\"adam\", loss=\"sparse_categorical_crossentropy\", metrics=[metrics.SparseCategoricalAccuracy()]\n",
    ")"
   ]
  },
  {
   "cell_type": "code",
   "execution_count": 7,
   "metadata": {},
   "outputs": [
    {
     "name": "stdout",
     "output_type": "stream",
     "text": [
      "313/313 [==============================] - 0s 484us/step\n",
      "Accuracy:  0.9778\n",
      "Precision:  0.9778581534433096\n",
      "Recall:  0.9775777296255154\n"
     ]
    }
   ],
   "source": [
    "preds_functional = functional_model.predict(testX)\n",
    "accuracy_functional = accuracy_score(testY, preds_functional.argmax(axis=1))\n",
    "precision_functional, recall_functional, _, _ = precision_recall_fscore_support(testY, preds_functional.argmax(axis=1), average='macro')\n",
    "print(\"Accuracy: \", accuracy_functional)\n",
    "print(\"Precision: \", precision_functional)\n",
    "print(\"Recall: \", recall_functional)"
   ]
  },
  {
   "attachments": {},
   "cell_type": "markdown",
   "metadata": {},
   "source": [
    "# Zadanie 2"
   ]
  },
  {
   "cell_type": "code",
   "execution_count": 9,
   "metadata": {},
   "outputs": [
    {
     "name": "stdout",
     "output_type": "stream",
     "text": [
      "1/1 [==============================] - 0s 29ms/step\n",
      "Raw predictions:  [[0.08533798 0.085338   0.08533876 0.08534504 0.08533798 0.08533798\n",
      "  0.08533798 0.23194955 0.08533799 0.08533865]\n",
      " [0.08533676 0.0853368  0.23196906 0.08533682 0.08533676 0.08533676\n",
      "  0.08533676 0.08533676 0.08533677 0.08533676]\n",
      " [0.08536281 0.23155767 0.08537    0.08536318 0.08537012 0.08536298\n",
      "  0.08536725 0.08548397 0.08539801 0.08536404]\n",
      " [0.23194407 0.08533835 0.08534685 0.08533834 0.08533834 0.08533835\n",
      "  0.08533871 0.08533906 0.08533833 0.08533952]\n",
      " [0.08534456 0.08534456 0.08534456 0.08534456 0.23184563 0.08534478\n",
      "  0.08534456 0.08534483 0.08534476 0.08539723]]\n",
      "Sum predictions:  [[0.085338   0.085338   0.08533877 0.08534504 0.085338   0.085338\n",
      "  0.085338   0.23194961 0.085338   0.08533864]\n",
      " [0.08533677 0.08533681 0.23196906 0.08533681 0.08533677 0.08533677\n",
      "  0.08533677 0.08533677 0.08533677 0.08533677]\n",
      " [0.08536281 0.23155761 0.08536997 0.08536318 0.0853701  0.08536298\n",
      "  0.08536725 0.08548395 0.08539799 0.08536404]\n",
      " [0.23194414 0.08533835 0.08534686 0.08533835 0.08533835 0.08533838\n",
      "  0.08533871 0.08533908 0.08533835 0.08533952]\n",
      " [0.08534457 0.08534457 0.08534457 0.08534457 0.2318456  0.08534481\n",
      "  0.08534457 0.08534481 0.08534477 0.08539724]]\n",
      "Raw predictions (indices):  tf.Tensor([7 2 1 0 4], shape=(5,), dtype=int64)\n",
      "Sum predictions (indices):  tf.Tensor([7 2 1 0 4], shape=(5,), dtype=int64)\n",
      "Test Y values:  [7 2 1 0 4]\n"
     ]
    }
   ],
   "source": [
    "scalar = layers.Input(shape=(1,), dtype=tf.float32)\n",
    "batch = layers.Input(shape=(28, 28), dtype=tf.float32)\n",
    "preds_raw = sequential_model(batch)\n",
    "preds_sum = layers.Add()([preds_raw, scalar])\n",
    "raw_output = layers.Softmax()(preds_raw)\n",
    "sum_output = layers.Softmax()(preds_sum)\n",
    "model = keras.Model(inputs=[scalar, batch], outputs=[raw_output, sum_output])\n",
    "model.compile(optimizer=\"adam\", loss=\"sparse_categorical_crossentropy\",\n",
    "              metrics=[metrics.SparseCategoricalAccuracy()])\n",
    "raw_preds, sum_preds = model.predict(\n",
    "    [tf.constant([5.0]*5, dtype=tf.float32), testX[:5]])\n",
    "print(\"Raw predictions: \", raw_preds)\n",
    "print(\"Sum predictions: \", sum_preds)\n",
    "print(\"Raw predictions (indices): \", tf.argmax(raw_preds, axis=1))\n",
    "print(\"Sum predictions (indices): \", tf.argmax(sum_preds, axis=1))\n",
    "print(\"Test Y values: \", testY[:5])\n"
   ]
  },
  {
   "cell_type": "code",
   "execution_count": null,
   "metadata": {},
   "outputs": [],
   "source": []
  }
 ],
 "metadata": {
  "kernelspec": {
   "display_name": "Python 3",
   "language": "python",
   "name": "python3"
  },
  "language_info": {
   "codemirror_mode": {
    "name": "ipython",
    "version": 3
   },
   "file_extension": ".py",
   "mimetype": "text/x-python",
   "name": "python",
   "nbconvert_exporter": "python",
   "pygments_lexer": "ipython3",
   "version": "3.10.6"
  },
  "orig_nbformat": 4
 },
 "nbformat": 4,
 "nbformat_minor": 2
}
